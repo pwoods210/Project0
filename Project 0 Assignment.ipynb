{
 "cells": [
  {
   "cell_type": "code",
   "execution_count": 1,
   "metadata": {},
   "outputs": [],
   "source": [
    "#Patrick Woods, UID: 113520266\n",
    "#Project 0\n",
    "\n",
    "import re\n",
    "\n",
    "def character_frequency(s):\n",
    "    ret = dict()\n",
    "    for c in s.lower():\n",
    "        if c in ret:\n",
    "            ret[c] = ret[c] + 1\n",
    "        else:\n",
    "            ret[c] = 1\n",
    "    \n",
    "    return ret"
   ]
  },
  {
   "cell_type": "code",
   "execution_count": 2,
   "metadata": {},
   "outputs": [
    {
     "data": {
      "text/plain": [
       "{'g': 2, 'o': 2, 'l': 1, 'e': 1}"
      ]
     },
     "execution_count": 2,
     "metadata": {},
     "output_type": "execute_result"
    }
   ],
   "source": [
    "character_frequency('google')"
   ]
  },
  {
   "cell_type": "code",
   "execution_count": 3,
   "metadata": {},
   "outputs": [
    {
     "data": {
      "text/plain": [
       "{'l': 1,\n",
       " 'e': 2,\n",
       " 't': 4,\n",
       " 's': 1,\n",
       " ' ': 7,\n",
       " '5': 1,\n",
       " '4': 1,\n",
       " '8': 1,\n",
       " 'r': 2,\n",
       " 'y': 1,\n",
       " ',': 1,\n",
       " '.': 1,\n",
       " '/': 1,\n",
       " 'o': 1,\n",
       " 'b': 1,\n",
       " 'a': 1,\n",
       " 'k': 1,\n",
       " 'i': 1,\n",
       " '=': 2}"
      ]
     },
     "execution_count": 3,
     "metadata": {},
     "output_type": "execute_result"
    }
   ],
   "source": [
    "character_frequency('lets 548 try ,./ to BREAK it ==')"
   ]
  },
  {
   "cell_type": "code",
   "execution_count": null,
   "metadata": {},
   "outputs": [],
   "source": []
  }
 ],
 "metadata": {
  "kernelspec": {
   "display_name": "Python 3",
   "language": "python",
   "name": "python3"
  },
  "language_info": {
   "codemirror_mode": {
    "name": "ipython",
    "version": 3
   },
   "file_extension": ".py",
   "mimetype": "text/x-python",
   "name": "python",
   "nbconvert_exporter": "python",
   "pygments_lexer": "ipython3",
   "version": "3.7.3"
  }
 },
 "nbformat": 4,
 "nbformat_minor": 2
}
